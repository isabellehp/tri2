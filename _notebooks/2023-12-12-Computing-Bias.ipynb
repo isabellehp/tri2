{
 "cells": [
  {
   "cell_type": "markdown",
   "metadata": {},
   "source": [
    "---\n",
    "toc: true\n",
    "comments: true\n",
    "layout: post\n",
    "title: Computing Bias\n",
    "description: \n",
    "type: hacks\n",
    "courses: { compsci: {week: 15} }\n",
    "---"
   ]
  },
  {
   "cell_type": "markdown",
   "metadata": {},
   "source": [
    "# Reducing Bias\n",
    "Programmers should take action to reduce bias in algorithms used for computing innovations as a way of combating existing human biases.\n",
    "\n",
    "Things to consider when developing programs:\n",
    "- Is your program enhancing or intentionally excluding?\n",
    "- Are you receiving feedback from a widespread group of people?\n",
    "\n",
    "## Hack 2: \n",
    "What is a way a programmer can reduce bias in their softwares?\n",
    "> Answer:\n",
    "\n",
    "# Types of Bias in Software Development\n",
    "Biases can be embedded at all levels of software development\n",
    "\n",
    "Bias can be intentional or unintentional. Some software development are made for a certain market and ensure that people of certain places or demographics can use them easily.\n",
    "\n",
    "Examples: \n",
    "**Intentional**: \n",
    "- games could be geared towards a certain age range (talking tom vs valorant)\n",
    "    - Game concepts\n",
    "    - Music\n",
    "    - Visuals\n",
    "- WeChat and KakaoTalk\n",
    "    - Almost everyone in China uses WeChat\n",
    "    - KakaoTalk is the Korean version\n",
    "**Unintentional**: \n",
    "- Social media, Facebook vs. instagram\n",
    "\n",
    "## Hack 3:\n",
    "What are some other examples of intentional and/or unintentional bias in innovations (games, social media, technology, etc.)\n",
    "> Answer:"
   ]
  }
 ],
 "metadata": {
  "language_info": {
   "name": "python"
  }
 },
 "nbformat": 4,
 "nbformat_minor": 2
}
