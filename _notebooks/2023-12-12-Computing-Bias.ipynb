{
 "cells": [
  {
   "cell_type": "markdown",
   "metadata": {},
   "source": [
    "---\n",
    "toc: true\n",
    "comments: true\n",
    "layout: post\n",
    "title: Computing Bias\n",
    "description: \n",
    "type: hacks\n",
    "courses: { compsci: {week: 15} }\n",
    "---"
   ]
  },
  {
   "cell_type": "markdown",
   "metadata": {},
   "source": [
    "# Human Biases Reflected As Computer Biases\n",
    "\n",
    "***What is \"computer bias\"?***\n",
    "The existence of prejudiced outcomes in the decisions or predictions made by computer systems/algorithms. Bias can be implemented into algorithms because of human biases being intentionally inserted or because of the data utilized being biased.\n",
    "\n",
    "\n",
    "\n",
    "**Explicit Data:**\n",
    "Information directly provided by user.\n",
    "\n",
    "**Implicit Data:**\n",
    "Infomration that can inferred from explicit data. \n",
    "\n",
    "\n",
    "Based on either explicit/implicit data that has been used to train an algorithm, whether intentionally introduced or during the process of training data generation, bias can be created. \n",
    "\n",
    "A notable example of this is seen in Netflix, where there are is a human factor that drives bias: Netflix exclusives are placed ahead (a show that is a Netflix exclusive means that users will be more likely to stay with Netflix). The bias in this case is Netflix's prioritzation towards Netflix-produced shows.\n",
    "\n",
    "## Hack 1: \n",
    "What is another example of a human bias being implemented into an algorithm? \n",
    "> Answer: \n"
   ]
  },
  {
   "cell_type": "markdown",
   "metadata": {},
   "source": [
    "# Reducing Bias\n",
    "Programmers should take action to reduce bias in algorithms used for computing innovations as a way of combating existing human biases.\n",
    "\n",
    "Things to consider when developing programs:\n",
    "- Is your program enhancing or intentionally excluding?\n",
    "- Are you receiving feedback from a widespread group of people?\n",
    "\n",
    "## Hack 2: \n",
    "What is a way a programmer can reduce bias in their softwares?\n",
    "> Answer:\n",
    "\n",
    "# Types of Bias in Software Development\n",
    "Biases can be embedded at all levels of software development\n",
    "\n",
    "Bias can be intentional or unintentional. Some software development are made for a certain market and ensure that people of certain places or demographics can use them easily.\n",
    "\n",
    "Examples: \n",
    "**Intentional**: \n",
    "- games could be geared towards a certain age range (talking tom vs valorant)\n",
    "    - Game concepts\n",
    "    - Music\n",
    "    - Visuals\n",
    "- WeChat and KakaoTalk\n",
    "    - Almost everyone in China uses WeChat\n",
    "    - KakaoTalk is the Korean version\n",
    "**Unintentional**: \n",
    "- Social media, Facebook vs. instagram\n",
    "\n",
    "## Hack 3:\n",
    "What are some other examples of intentional and/or unintentional bias in innovations (games, social media, technology, etc.)\n",
    "> Answer:"
   ]
  }
 ],
 "metadata": {
  "kernelspec": {
   "display_name": "Python 3",
   "language": "python",
   "name": "python3"
  },
  "language_info": {
   "codemirror_mode": {
    "name": "ipython",
    "version": 3
   },
   "file_extension": ".py",
   "mimetype": "text/x-python",
   "name": "python",
   "nbconvert_exporter": "python",
   "pygments_lexer": "ipython3",
   "version": "3.9.6"
  }
 },
 "nbformat": 4,
 "nbformat_minor": 2
}
