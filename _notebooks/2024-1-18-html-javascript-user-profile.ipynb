{
 "cells": [
  {
   "cell_type": "markdown",
   "metadata": {},
   "source": [
    "---\n",
    "toc: true\n",
    "comments: true\n",
    "layout: post\n",
    "title: Html and Javascript for User Profiles\n",
    "description: \n",
    "type: hacks\n",
    "courses: { compsci: {week: 17} }\n",
    "---"
   ]
  },
  {
   "cell_type": "markdown",
   "metadata": {},
   "source": [
    "## CRUD Operations\n",
    "CRUD stands for create, read, update, and delete which are the 4 basic functions for managing data in a database or storage system.\n",
    "\n",
    "Procedures:\n",
    "- **CREATE**\n",
    "    - Adds new data to the system\n",
    "    - Usually completed by an operation like an insert statement by creating a new record or new object\n",
    "- **READ**\n",
    "    - Retrieves and reads existing data\n",
    "    - Usually used for querying and fetching data information\n",
    "- **UPDATE**\n",
    "    - Makes changes to existing data\n",
    "    - In this case, it would be if the user wants to update or change parts of their user profile like username, password, name, etc.\n",
    "- **DELETE**\n",
    "    - Removes data from the system\n",
    "    - Deletes a record or object\n",
    "\n",
    "CRUD operations are important for interacting with databases and controlling data in software applications. These functions set the foundations for data management and are used in many systems, no matter how minor or complex. They provide a standardized way to handle data throughout its lifecycle from its creation to modification to elimination."
   ]
  },
  {
   "cell_type": "markdown",
   "metadata": {},
   "source": [
    "The code below is a simple format of creating or updating user profiles in html."
   ]
  },
  {
   "cell_type": "code",
   "execution_count": null,
   "metadata": {
    "vscode": {
     "languageId": "html"
    }
   },
   "outputs": [],
   "source": [
    "<div id=\"profile\">\n",
    "    <label for=\"name\">Name:</label>\n",
    "    <input type=\"text\" id=\"name\">\n",
    "  \n",
    "    <label for=\"uid\">User ID:</label>\n",
    "    <input type=\"text\" id=\"uid\">\n",
    "  \n",
    "    <label for=\"password\">Password:</label>\n",
    "    <input type=\"password\" id=\"password\">\n",
    "  \n",
    "    <button onclick=\"createOrUpdateProfile()\">Create/Update Profile</button>\n",
    "  </div>"
   ]
  },
  {
   "cell_type": "markdown",
   "metadata": {},
   "source": [
    "Once you have the html format of the user profile page, you can establish the CRUD procedures like in the example below."
   ]
  },
  {
   "cell_type": "code",
   "execution_count": null,
   "metadata": {
    "vscode": {
     "languageId": "javascript"
    }
   },
   "outputs": [],
   "source": [
    "// In-memory data structure\n",
    "  let users = [];\n",
    "\n",
    "  // CREATE operation\n",
    "  function createProfile() {\n",
    "    const name = document.getElementById('name').value;\n",
    "    const uid = document.getElementById('uid').value;\n",
    "    const password = document.getElementById('password').value;\n",
    "\n",
    "    if (uid.length > 0) {\n",
    "      const existingUser = users.find(user => user.uid === uid);\n",
    "\n",
    "      if (existingUser) {\n",
    "        // Update existing user\n",
    "        const updatedUser = updateUser(existingUser.id, name, uid, password);\n",
    "        console.log('Updated User:', updatedUser);\n",
    "      } else {\n",
    "        // Create new user\n",
    "        const newUser = createUser(name, uid, password);\n",
    "        console.log('Created User:', newUser);\n",
    "      }\n",
    "\n",
    "      // Reset form fields\n",
    "      document.getElementById('name').value = '';\n",
    "      document.getElementById('uid').value = '';\n",
    "      document.getElementById('password').value = '';\n",
    "\n",
    "    } else {\n",
    "      console.log('Invalid input. User ID is required.');\n",
    "    }\n",
    "  }\n",
    "\n",
    "  // READ operation\n",
    "  function getAllUsers() {\n",
    "    return users.map(user => ({ ...user }));\n",
    "  }\n",
    "\n",
    "  // UPDATE operation\n",
    "  function updateUser(id, name, uid, password) {\n",
    "    const userIndex = users.findIndex(user => user.id === id);\n",
    "    if (userIndex !== -1) {\n",
    "      users[userIndex] = {\n",
    "        ...users[userIndex],\n",
    "        name,\n",
    "        uid,\n",
    "        password,\n",
    "      };\n",
    "      return { ...users[userIndex] };\n",
    "    }\n",
    "    return null;\n",
    "  }\n",
    "\n",
    "  // DELETE operation\n",
    "  function deleteUser(id) {\n",
    "    const initialLength = users.length;\n",
    "    users = users.filter(user => user.id !== id);\n",
    "    return users.length !== initialLength;\n",
    "  }"
   ]
  },
  {
   "cell_type": "markdown",
   "metadata": {},
   "source": [
    "Here is another [sample](https://github.com/nighthawkcoders/devOps/blob/main/api/user.py) to use when creating these functions in your own user login and profile page."
   ]
  }
 ],
 "metadata": {
  "kernelspec": {
   "display_name": "Python 3",
   "language": "python",
   "name": "python3"
  },
  "language_info": {
   "codemirror_mode": {
    "name": "ipython",
    "version": 3
   },
   "file_extension": ".py",
   "mimetype": "text/x-python",
   "name": "python",
   "nbconvert_exporter": "python",
   "pygments_lexer": "ipython3",
   "version": "3.10.12"
  }
 },
 "nbformat": 4,
 "nbformat_minor": 2
}
