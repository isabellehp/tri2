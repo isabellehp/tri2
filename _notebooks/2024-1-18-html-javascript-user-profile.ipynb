{
 "cells": [
  {
   "cell_type": "markdown",
   "metadata": {},
   "source": [
    "---\n",
    "toc: true\n",
    "comments: true\n",
    "layout: post\n",
    "title: Html and Javascript for User Profiles\n",
    "description: \n",
    "type: hacks\n",
    "courses: { compsci: {week: 17} }\n",
    "---"
   ]
  },
  {
   "cell_type": "markdown",
   "metadata": {},
   "source": [
    "## CRUD Operations\n",
    "CRUD stands for create, read, update, and delete which are the 4 basic functions for managing data in a database or storage system.\n",
    "\n",
    "Procedures:\n",
    "- **CREATE**\n",
    "    - Adds new data to the system\n",
    "    - Usually completed by an operation like an insert statement by creating a new record or new object\n",
    "- **READ**\n",
    "    - Retrieves and reads existing data\n",
    "    - Usually used for querying and fetching data information\n",
    "- **UPDATE**\n",
    "    - Makes changes to existing data\n",
    "    - In this case, it would be if the user wants to update or change parts of their user profile like username, password, name, etc.\n",
    "- **DELETE**\n",
    "    - Removes data from the system\n",
    "    - Deletes a record or object\n",
    "\n",
    "CRUD operations are important for interacting with databases and controlling data in software applications. These functions set the foundations for data management and are used in many systems, no matter how minor or complex. They provide a standardized way to handle data throughout its lifecycle from its creation to modification to elimination."
   ]
  },
  {
   "cell_type": "markdown",
   "metadata": {},
   "source": [
    "The code below is a simple format of creating or updating user profiles in html."
   ]
  },
  {
   "cell_type": "code",
   "execution_count": 2,
   "metadata": {
    "vscode": {
     "languageId": "html"
    }
   },
   "outputs": [
    {
     "data": {
      "text/html": [
       "<div id=\"profile\">\n",
       "    <label for=\"name\">Name:</label>\n",
       "    <input type=\"text\" id=\"name\" required>\n",
       "  \n",
       "    <label for=\"uid\">User ID:</label>\n",
       "    <input type=\"text\" id=\"uid\" required>\n",
       "  \n",
       "    <label for=\"password\">Password:</label>\n",
       "    <input type=\"password\" id=\"password\" required>\n",
       "  \n",
       "    <button type=\"submit\" onclick=\"createProfile()\">Create Profile</button>\n",
       "  </div>\n"
      ],
      "text/plain": [
       "<IPython.core.display.HTML object>"
      ]
     },
     "metadata": {},
     "output_type": "display_data"
    }
   ],
   "source": [
    "%%HTML\n",
    "<div id=\"profile\">\n",
    "    <label for=\"name\">Name:</label>\n",
    "    <input type=\"text\" id=\"name\" required>\n",
    "  \n",
    "    <label for=\"uid\">User ID:</label>\n",
    "    <input type=\"text\" id=\"uid\" required>\n",
    "  \n",
    "    <label for=\"password\">Password:</label>\n",
    "    <input type=\"password\" id=\"password\" required>\n",
    "  \n",
    "    <button type=\"submit\" onclick=\"createProfile()\">Create Profile</button>\n",
    "  </div>"
   ]
  },
  {
   "cell_type": "markdown",
   "metadata": {},
   "source": [
    "Once you have the html format of the user profile page, you can establish the CRUD procedures like in the example below."
   ]
  },
  {
   "cell_type": "code",
   "execution_count": null,
   "metadata": {
    "vscode": {
     "languageId": "javascript"
    }
   },
   "outputs": [],
   "source": [
    "// In-memory data structure\n",
    "  let users = [];\n",
    "\n",
    "  // CREATE operation\n",
    "  function createProfile() {\n",
    "    const name = document.getElementById('name').value;\n",
    "    const uid = document.getElementById('uid').value;\n",
    "    const password = document.getElementById('password').value;\n",
    "\n",
    "    if (uid.length > 0) {\n",
    "      const existingUser = users.find(user => user.uid === uid);\n",
    "\n",
    "      if (existingUser) {\n",
    "        // Update existing user\n",
    "        const updatedUser = updateUser(existingUser.id, name, uid, password);\n",
    "        console.log('Updated User:', updatedUser);\n",
    "      } else {\n",
    "        // Create new user\n",
    "        const newUser = createUser(name, uid, password);\n",
    "        console.log('Created User:', newUser);\n",
    "      }\n",
    "\n",
    "      // Reset form fields\n",
    "      document.getElementById('name').value = '';\n",
    "      document.getElementById('uid').value = '';\n",
    "      document.getElementById('password').value = '';\n",
    "\n",
    "    } else {\n",
    "      console.log('Invalid input. User ID is required.');\n",
    "    }\n",
    "  }\n",
    "\n",
    "  // READ operation\n",
    "  function getAllUsers() {\n",
    "    return users.map(user => ({ ...user }));\n",
    "  }\n",
    "\n",
    "  // UPDATE operation\n",
    "  function updateUser(id, name, uid, password) {\n",
    "    const userIndex = users.findIndex(user => user.id === id);\n",
    "    if (userIndex !== -1) {\n",
    "      users[userIndex] = {\n",
    "        ...users[userIndex],\n",
    "        name,\n",
    "        uid,\n",
    "        password,\n",
    "      };\n",
    "      return { ...users[userIndex] };\n",
    "    }\n",
    "    return null;\n",
    "  }\n",
    "\n",
    "  // DELETE operation\n",
    "  function deleteUser(id) {\n",
    "    const initialLength = users.length;\n",
    "    users = users.filter(user => user.id !== id);\n",
    "    return users.length !== initialLength;\n",
    "  }"
   ]
  },
  {
   "cell_type": "markdown",
   "metadata": {},
   "source": [
    "Here is another [sample](https://github.com/nighthawkcoders/devOps/blob/main/api/user.py) to use when creating these functions in your own user login and profile page."
   ]
  },
  {
   "cell_type": "markdown",
   "metadata": {},
   "source": [
    "## Sample User Interface\n",
    "(image)"
   ]
  },
  {
   "cell_type": "markdown",
   "metadata": {},
   "source": [
    "Sample code for the form:\n",
    "- The code creates an HTML form, and when it's submitted, a JavaScript function named submitForm is called. This function can be customized to handle the form submission in a specific way. Typically, it includes preventing the default form submission behavior to enable custom processing.\n",
    "- main labels for this sample:\n",
    "    - Github username, full name, password, and submit button"
   ]
  },
  {
   "cell_type": "code",
   "execution_count": null,
   "metadata": {
    "vscode": {
     "languageId": "javascript"
    }
   },
   "outputs": [],
   "source": [
    "<form onsubmit=\"submitForm(event)\">\n",
    "    <!-- GitHub Username Input -->\n",
    "    <label for=\"githubUsername\">GitHub Username:</label>\n",
    "    <input type=\"text\" id=\"githubUsername\" name=\"githubUsername\" required /><br /><br />\n",
    "\n",
    "    <!-- Full Name Input -->\n",
    "    <label for=\"fullName\">Full Name:</label>\n",
    "    <input type=\"text\" id=\"fullName\" name=\"fullName\" required /><br /><br />\n",
    "\n",
    "    <!-- Password Input -->\n",
    "    <label for=\"password\">Password:</label>\n",
    "    <input type=\"password\" id=\"password\" name=\"password\" required /><br /><br />\n",
    "\n",
    "    <!-- Submit Button -->\n",
    "    <input type=\"submit\" value=\"Submit\" />\n",
    "</form>"
   ]
  },
  {
   "cell_type": "markdown",
   "metadata": {},
   "source": [
    "This code defines a JavaScript constant (apiUrl) with a value representing the base URL for making API requests to manage users. It also initializes an array (users) that is intended to store user data retrieved from the API."
   ]
  },
  {
   "cell_type": "code",
   "execution_count": null,
   "metadata": {
    "vscode": {
     "languageId": "javascript"
    }
   },
   "outputs": [],
   "source": [
    "//Sample\n",
    "const apiUrl = \"https://devops.nighthawkcodingsociety.com/api/users/\";\n",
    "\t// const apiUrl = \"http://localhost:8180/api/users/\";\n",
    "\tlet users = [];"
   ]
  },
  {
   "cell_type": "markdown",
   "metadata": {},
   "source": [
    "The code down below is used after defining the apiUrl and it features the function fetchUsers() which is a function that fetches user data from an API, then dynamically populates an HTML table with user information, and adds \"Edit\" and \"Delete\" buttons for each user. The dynamically created buttons also have associated event listeners to handle user interactions.\n",
    "- Event listeners are code that \"listen\" for specific actions/events to occur on a webpage. When the specified event occurs, the code (a callback function) is executed."
   ]
  },
  {
   "cell_type": "code",
   "execution_count": null,
   "metadata": {
    "vscode": {
     "languageId": "javascript"
    }
   },
   "outputs": [],
   "source": [
    "function fetchUsers() {\n",
    "    fetch(apiUrl)\n",
    "        .then((response) => response.json())\n",
    "        .then((response) => {\n",
    "            users = response;\n",
    "\n",
    "            const table = document.getElementById(\"userTable\");\n",
    "            users.forEach((user, idx) => {\n",
    "                const row = table.insertRow();\n",
    "\n",
    "                row.setAttribute(\"data-id\", user.id);\n",
    "                [\"name\", \"uid\"].forEach(\n",
    "                    (field) => {\n",
    "                        const cell = row.insertCell();\n",
    "                        if (user[field] === \"none\") {\n",
    "                            users[idx][field] = \"\";\n",
    "                        }\n",
    "                        cell.innerText = users[idx][field];\n",
    "                    }\n",
    "                );\n",
    "\n",
    "                const editCell = row.insertCell();\n",
    "                const editButton = document.createElement(\"button\");\n",
    "                editButton.innerHTML = \"Edit\";\n",
    "                editButton.addEventListener(\"click\", editUser);\n",
    "                editCell.appendChild(editButton);\n",
    "\n",
    "                const deleteCell = row.insertCell();\n",
    "                const deleteButton = document.createElement(\"button\");\n",
    "                deleteButton.innerText = \"Delete\";\n",
    "                deleteButton.addEventListener(\"click\", () => deleteUser(user.id, row));\n",
    "                deleteCell.appendChild(deleteButton);\n",
    "            });\n",
    "        });\n",
    "}"
   ]
  },
  {
   "cell_type": "markdown",
   "metadata": {},
   "source": [
    "Entire sample code if needed: [code](https://github.com/nighthawkcoders/teacher/blob/main/_includes/create_user.html)"
   ]
  },
  {
   "cell_type": "markdown",
   "metadata": {},
   "source": []
  }
 ],
 "metadata": {
  "kernelspec": {
   "display_name": "Python 3",
   "language": "python",
   "name": "python3"
  },
  "language_info": {
   "codemirror_mode": {
    "name": "ipython",
    "version": 3
   },
   "file_extension": ".py",
   "mimetype": "text/x-python",
   "name": "python",
   "nbconvert_exporter": "python",
   "pygments_lexer": "ipython3",
   "version": "3.10.12"
  }
 },
 "nbformat": 4,
 "nbformat_minor": 2
}
