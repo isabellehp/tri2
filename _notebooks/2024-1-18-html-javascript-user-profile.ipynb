{
 "cells": [
  {
   "cell_type": "markdown",
   "metadata": {},
   "source": [
    "---\n",
    "toc: true\n",
    "comments: true\n",
    "layout: post\n",
    "title: Html and Javascript for User Profiles\n",
    "description: \n",
    "type: hacks\n",
    "courses: { compsci: {week: 17} }\n",
    "---"
   ]
  },
  {
   "cell_type": "markdown",
   "metadata": {},
   "source": [
    "## CRUD Operations\n",
    "CRUD stands for create, read, update, and delete which are the 4 basic functions for continuous storage.\n",
    "\n",
    "Procedures:\n",
    "- **CREATE**: performs INSERT statement to create a new record in database\n",
    "- **READ**: reads table records based on the primary keynoted within the input parameter\n",
    "- **UPDATE**: executes an UPDATE statement on the table based on the specified primary key for a record within the WHERE clause of the statement\n",
    "- **DELETE**: deletes a specified row in WHERE clause"
   ]
  }
 ],
 "metadata": {
  "language_info": {
   "name": "python"
  }
 },
 "nbformat": 4,
 "nbformat_minor": 2
}
